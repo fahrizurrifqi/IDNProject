{
 "cells": [
  {
   "cell_type": "code",
   "execution_count": 5,
   "metadata": {},
   "outputs": [],
   "source": [
    "chdir('..')"
   ]
  },
  {
   "cell_type": "code",
   "execution_count": 6,
   "metadata": {},
   "outputs": [
    {
     "data": {
      "text/plain": [
       "'C:\\\\Users\\\\diqad\\\\Documents\\\\Skripsi\\\\IDNProject\\\\IDN_APP\\\\static\\\\penawaran'"
      ]
     },
     "execution_count": 6,
     "metadata": {},
     "output_type": "execute_result"
    }
   ],
   "source": [
    "%pwd"
   ]
  },
  {
   "cell_type": "code",
   "execution_count": 8,
   "metadata": {},
   "outputs": [
    {
     "name": "stdout",
     "output_type": "stream",
     "text": [
      "\n",
      "\n",
      "Provide absolute path for the folder: test\n",
      "\n",
      "The specified path does not exist.\n",
      "\n"
     ]
    },
    {
     "ename": "NameError",
     "evalue": "name 'raw_input' is not defined",
     "output_type": "error",
     "traceback": [
      "\u001b[1;31m---------------------------------------------------------------------------\u001b[0m",
      "\u001b[1;31mNameError\u001b[0m                                 Traceback (most recent call last)",
      "\u001b[1;32m<ipython-input-8-ea68dd1d0e2a>\u001b[0m in \u001b[0;36m<module>\u001b[1;34m\u001b[0m\n\u001b[0;32m     26\u001b[0m \u001b[0mprint\u001b[0m\u001b[1;33m(\u001b[0m\u001b[1;34m\"\\n\"\u001b[0m\u001b[1;33m)\u001b[0m\u001b[1;33m\u001b[0m\u001b[1;33m\u001b[0m\u001b[0m\n\u001b[0;32m     27\u001b[0m \u001b[1;33m\u001b[0m\u001b[0m\n\u001b[1;32m---> 28\u001b[1;33m \u001b[0mfolder\u001b[0m \u001b[1;33m=\u001b[0m \u001b[0mcheck_path\u001b[0m\u001b[1;33m(\u001b[0m\u001b[1;34m\"Provide absolute path for the folder: \"\u001b[0m\u001b[1;33m)\u001b[0m\u001b[1;33m\u001b[0m\u001b[1;33m\u001b[0m\u001b[0m\n\u001b[0m\u001b[0;32m     29\u001b[0m \u001b[1;33m\u001b[0m\u001b[0m\n\u001b[0;32m     30\u001b[0m \u001b[1;31m# Change the directory.\u001b[0m\u001b[1;33m\u001b[0m\u001b[1;33m\u001b[0m\u001b[1;33m\u001b[0m\u001b[0m\n",
      "\u001b[1;32m<ipython-input-8-ea68dd1d0e2a>\u001b[0m in \u001b[0;36mcheck_path\u001b[1;34m(prompt)\u001b[0m\n\u001b[0;32m     21\u001b[0m     \u001b[1;32mwhile\u001b[0m \u001b[0mpath\u001b[0m\u001b[1;33m.\u001b[0m\u001b[0mexists\u001b[0m\u001b[1;33m(\u001b[0m\u001b[0mabs_path\u001b[0m\u001b[1;33m)\u001b[0m \u001b[1;33m!=\u001b[0m \u001b[1;32mTrue\u001b[0m\u001b[1;33m:\u001b[0m\u001b[1;33m\u001b[0m\u001b[1;33m\u001b[0m\u001b[0m\n\u001b[0;32m     22\u001b[0m         \u001b[0mprint\u001b[0m\u001b[1;33m(\u001b[0m\u001b[1;34m\"\\nThe specified path does not exist.\\n\"\u001b[0m\u001b[1;33m)\u001b[0m\u001b[1;33m\u001b[0m\u001b[1;33m\u001b[0m\u001b[0m\n\u001b[1;32m---> 23\u001b[1;33m         \u001b[0mabs_path\u001b[0m \u001b[1;33m=\u001b[0m \u001b[0mraw_input\u001b[0m\u001b[1;33m(\u001b[0m\u001b[0mprompt\u001b[0m\u001b[1;33m)\u001b[0m\u001b[1;33m\u001b[0m\u001b[1;33m\u001b[0m\u001b[0m\n\u001b[0m\u001b[0;32m     24\u001b[0m     \u001b[1;32mreturn\u001b[0m \u001b[0mabs_path\u001b[0m\u001b[1;33m\u001b[0m\u001b[1;33m\u001b[0m\u001b[0m\n\u001b[0;32m     25\u001b[0m \u001b[1;33m\u001b[0m\u001b[0m\n",
      "\u001b[1;31mNameError\u001b[0m: name 'raw_input' is not defined"
     ]
    }
   ],
   "source": [
    "from os import chdir, getcwd, listdir, path\n",
    "from time import strftime\n",
    "from win32com import client\n",
    "\n",
    "def count_files(filetype):\n",
    "    count_files = 0\n",
    "    for files in listdir(folder):\n",
    "        if files.endswith(filetype):\n",
    "            count_files += 1\n",
    "    return count_files\n",
    "\n",
    "def check_path(prompt):\n",
    "    abs_path = input(prompt)\n",
    "    while path.exists(abs_path) != True:\n",
    "        print(\"\\nThe specified path does not exist.\\n\")\n",
    "        abs_path = raw_input(prompt)\n",
    "    return abs_path    \n",
    "    \n",
    "print(\"\\n\")\n",
    "\n",
    "folder = \"C:\\Users\\diqad\\Documents\\Skripsi\\IDNProject\\IDN_APP\\static\\penawaran\\test\"\n",
    "\n",
    "# Change the directory.\n",
    "\n",
    "chdir(folder)\n",
    "\n",
    "num_docx = count_files(\".docx\")"
   ]
  },
  {
   "cell_type": "code",
   "execution_count": 9,
   "metadata": {},
   "outputs": [
    {
     "data": {
      "text/plain": [
       "'C:\\\\Users\\\\diqad\\\\Documents\\\\Skripsi\\\\IDNProject\\\\IDN_APP\\\\static\\\\penawaran\\\\test'"
      ]
     },
     "execution_count": 9,
     "metadata": {},
     "output_type": "execute_result"
    }
   ],
   "source": [
    "%pwd"
   ]
  },
  {
   "cell_type": "code",
   "execution_count": 15,
   "metadata": {},
   "outputs": [],
   "source": [
    "chdir('..')"
   ]
  },
  {
   "cell_type": "code",
   "execution_count": 17,
   "metadata": {},
   "outputs": [
    {
     "name": "stdout",
     "output_type": "stream",
     "text": [
      "\n",
      "\n",
      "Provide absolute path for the folder: C:\\Users\\diqad\\Documents\\Skripsi\\IDNProject\\IDN_APP\\static\\penawaran\\test\n"
     ]
    }
   ],
   "source": [
    "from os import chdir, getcwd, listdir, path\n",
    "from time import strftime\n",
    "from win32com import client\n",
    "def count_files(filetype):\n",
    "    ''' (str) -> int\n",
    "    Returns the number of files given a specified file type.\n",
    "    >>> count_files(\".docx\")\n",
    "    11\n",
    "    '''\n",
    "    count_files = 0\n",
    "    for files in listdir(folder):\n",
    "        if files.endswith(filetype):\n",
    "            count_files += 1\n",
    "    return count_files\n",
    "\n",
    "def check_path(prompt):\n",
    "    ''' (str) -> str\n",
    "    Verifies if the provided absolute path does exist.\n",
    "    '''\n",
    "    abs_path = input(prompt)\n",
    "    while path.exists(abs_path) != True:\n",
    "        print(\"\\nThe specified path does not exist.\\n\")\n",
    "        abs_path = raw_input(prompt)\n",
    "    return abs_path    \n",
    "    \n",
    "print(\"\\n\")\n",
    "\n",
    "folder = check_path(\"Provide absolute path for the folder: \")\n",
    "\n",
    "# Change the directory.\n",
    "\n",
    "chdir(folder)\n",
    "\n",
    "num_docx = count_files(\".docx\")"
   ]
  },
  {
   "cell_type": "code",
   "execution_count": 20,
   "metadata": {},
   "outputs": [
    {
     "name": "stdout",
     "output_type": "stream",
     "text": [
      "\n",
      "Number of doc and docx files:  2 \n",
      "\n",
      "14:37:12 Starting to convert files ...\n",
      "\n"
     ]
    }
   ],
   "source": [
    "if num_docx == 0:\n",
    "    print (\"\\nThe specified folder does not contain docx or docs files.\\n\")\n",
    "    print (strftime(\"%H:%M:%S\"), \"There are no files to convert. BYE, BYE!.\")\n",
    "    exit()\n",
    "else:\n",
    "    print(\"\\nNumber of doc and docx files: \", num_docx, \"\\n\")\n",
    "    print(strftime(\"%H:%M:%S\"), \"Starting to convert files ...\\n\")"
   ]
  },
  {
   "cell_type": "code",
   "execution_count": 27,
   "metadata": {},
   "outputs": [
    {
     "name": "stdout",
     "output_type": "stream",
     "text": [
      "14:41:10  docx -> pdf  Bryan Hale.pdf\n",
      "14:41:14  docx -> pdf  Michael Booker.pdf\n",
      "\n",
      " 14:41:15 Finished converting files.\n",
      "\n",
      "Number of pdf files: \n",
      "\n",
      "Number of docx files is equal to number of pdf files.\n"
     ]
    }
   ],
   "source": [
    "try:\n",
    "    word = client.DispatchEx(\"Word.Application\")\n",
    "    for files in listdir(getcwd()):\n",
    "        if files.endswith(\".docx\"):\n",
    "            new_name = files.replace(\".docx\", r\".pdf\")\n",
    "            in_file = path.abspath(folder + \"\\\\\" + files)\n",
    "            new_file = path.abspath(folder + \"\\\\\" + new_name)\n",
    "            doc = word.Documents.Open(in_file)\n",
    "            print(strftime(\"%H:%M:%S\"), \" docx -> pdf \", path.relpath(new_file))\n",
    "            doc.SaveAs(new_file, FileFormat = 17)\n",
    "            doc.Close()\n",
    "\n",
    "finally:\n",
    "    word.Quit()\n",
    "\n",
    "print(\"\\n\", strftime(\"%H:%M:%S\"), \"Finished converting files.\")    \n",
    "\n",
    "# Count the number of pdf files.\n",
    "\n",
    "num_pdf = count_files(\".pdf\")   \n",
    "\n",
    "print(\"\\nNumber of pdf files: \"), num_pdf\n",
    "\n",
    "# Check if the number of docx and doc file is equal to the number of files.\n",
    "\n",
    "if num_docx == num_pdf:\n",
    "    print(\"\\nNumber of docx files is equal to number of pdf files.\")\n",
    "else:\n",
    "    print(\"\\nNumber of docx files is not equal to number of pdf files.\")\n"
   ]
  },
  {
   "cell_type": "code",
   "execution_count": null,
   "metadata": {},
   "outputs": [],
   "source": []
  }
 ],
 "metadata": {
  "kernelspec": {
   "display_name": "Python 3",
   "language": "python",
   "name": "python3"
  },
  "language_info": {
   "codemirror_mode": {
    "name": "ipython",
    "version": 3
   },
   "file_extension": ".py",
   "mimetype": "text/x-python",
   "name": "python",
   "nbconvert_exporter": "python",
   "pygments_lexer": "ipython3",
   "version": "3.7.2"
  }
 },
 "nbformat": 4,
 "nbformat_minor": 2
}
