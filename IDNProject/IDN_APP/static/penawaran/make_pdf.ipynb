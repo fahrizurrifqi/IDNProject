{
 "cells": [
  {
   "cell_type": "code",
   "execution_count": 5,
   "metadata": {},
   "outputs": [],
   "source": [
    "chdir('..')"
   ]
  },
  {
   "cell_type": "code",
   "execution_count": 1,
   "metadata": {},
   "outputs": [
    {
     "data": {
      "text/plain": [
       "'C:\\\\Users\\\\diqad\\\\Documents\\\\Skripsi\\\\IDNProject\\\\IDN_APP\\\\static\\\\penawaran'"
      ]
     },
     "execution_count": 1,
     "metadata": {},
     "output_type": "execute_result"
    }
   ],
   "source": [
    "%pwd"
   ]
  },
  {
   "cell_type": "code",
   "execution_count": 16,
   "metadata": {},
   "outputs": [],
   "source": [
    "from os import chdir, getcwd, listdir, path\n",
    "from time import strftime\n",
    "from win32com import client\n",
    "\n",
    "def create_pdf():\n",
    "    folder = \"C:\\\\Users\\\\diqad\\\\Documents\\\\Skripsi\\\\IDNProject\\\\IDN_APP\\\\static\\\\penawaran\"\n",
    "    word = client.DispatchEx(\"Word.Application\")\n",
    "    files = 'Tammy Johnson.docx'\n",
    "    new_name = files.replace(\".docx\", r\".pdf\")\n",
    "    in_file = path.abspath(folder + \"\\\\\" + files)\n",
    "    new_file = path.abspath(folder + \"\\\\\" + new_name)\n",
    "    doc = word.Documents.Open(in_file)\n",
    "    doc.SaveAs(new_file, FileFormat = 17)\n",
    "    doc.Close()\n",
    "    word.Quit()\n",
    "    \n",
    "create_pdf()\n"
   ]
  },
  {
   "cell_type": "code",
   "execution_count": 3,
   "metadata": {},
   "outputs": [
    {
     "data": {
      "text/plain": [
       "'C:\\\\Users\\\\diqad\\\\Documents\\\\Skripsi\\\\IDNProject\\\\IDN_APP\\\\static\\\\penawaran'"
      ]
     },
     "execution_count": 3,
     "metadata": {},
     "output_type": "execute_result"
    }
   ],
   "source": [
    "%pwd"
   ]
  },
  {
   "cell_type": "code",
   "execution_count": 15,
   "metadata": {},
   "outputs": [],
   "source": [
    "chdir('..')"
   ]
  },
  {
   "cell_type": "code",
   "execution_count": 17,
   "metadata": {},
   "outputs": [
    {
     "name": "stdout",
     "output_type": "stream",
     "text": [
      "\n",
      "\n",
      "Provide absolute path for the folder: C:\\Users\\diqad\\Documents\\Skripsi\\IDNProject\\IDN_APP\\static\\penawaran\\test\n"
     ]
    }
   ],
   "source": [
    "from os import chdir, getcwd, listdir, path\n",
    "from time import strftime\n",
    "from win32com import client\n",
    "def count_files(filetype):\n",
    "    ''' (str) -> int\n",
    "    Returns the number of files given a specified file type.\n",
    "    >>> count_files(\".docx\")\n",
    "    11\n",
    "    '''\n",
    "    count_files = 0\n",
    "    for files in listdir(folder):\n",
    "        if files.endswith(filetype):\n",
    "            count_files += 1\n",
    "    return count_files\n",
    "\n",
    "def check_path(prompt):\n",
    "    ''' (str) -> str\n",
    "    Verifies if the provided absolute path does exist.\n",
    "    '''\n",
    "    abs_path = input(prompt)\n",
    "    while path.exists(abs_path) != True:\n",
    "        print(\"\\nThe specified path does not exist.\\n\")\n",
    "        abs_path = raw_input(prompt)\n",
    "    return abs_path    \n",
    "    \n",
    "print(\"\\n\")\n",
    "\n",
    "folder = check_path(\"Provide absolute path for the folder: \")\n",
    "\n",
    "# Change the directory.\n",
    "\n",
    "chdir(folder)\n",
    "\n",
    "num_docx = count_files(\".docx\")"
   ]
  },
  {
   "cell_type": "code",
   "execution_count": 20,
   "metadata": {},
   "outputs": [
    {
     "name": "stdout",
     "output_type": "stream",
     "text": [
      "\n",
      "Number of doc and docx files:  2 \n",
      "\n",
      "14:37:12 Starting to convert files ...\n",
      "\n"
     ]
    }
   ],
   "source": [
    "if num_docx == 0:\n",
    "    print (\"\\nThe specified folder does not contain docx or docs files.\\n\")\n",
    "    print (strftime(\"%H:%M:%S\"), \"There are no files to convert. BYE, BYE!.\")\n",
    "    exit()\n",
    "else:\n",
    "    print(\"\\nNumber of doc and docx files: \", num_docx, \"\\n\")\n",
    "    print(strftime(\"%H:%M:%S\"), \"Starting to convert files ...\\n\")"
   ]
  },
  {
   "cell_type": "code",
   "execution_count": 27,
   "metadata": {},
   "outputs": [
    {
     "name": "stdout",
     "output_type": "stream",
     "text": [
      "14:41:10  docx -> pdf  Bryan Hale.pdf\n",
      "14:41:14  docx -> pdf  Michael Booker.pdf\n",
      "\n",
      " 14:41:15 Finished converting files.\n",
      "\n",
      "Number of pdf files: \n",
      "\n",
      "Number of docx files is equal to number of pdf files.\n"
     ]
    }
   ],
   "source": [
    "try:\n",
    "    word = client.DispatchEx(\"Word.Application\")\n",
    "    for files in listdir(getcwd()):\n",
    "        if files.endswith(\".docx\"):\n",
    "            new_name = files.replace(\".docx\", r\".pdf\")\n",
    "            in_file = path.abspath(folder + \"\\\\\" + files)\n",
    "            new_file = path.abspath(folder + \"\\\\\" + new_name)\n",
    "            doc = word.Documents.Open(in_file)\n",
    "            print(strftime(\"%H:%M:%S\"), \" docx -> pdf \", path.relpath(new_file))\n",
    "            doc.SaveAs(new_file, FileFormat = 17)\n",
    "            doc.Close()\n",
    "\n",
    "finally:\n",
    "    word.Quit()\n",
    "\n",
    "print(\"\\n\", strftime(\"%H:%M:%S\"), \"Finished converting files.\")    \n",
    "\n",
    "# Count the number of pdf files.\n",
    "\n",
    "num_pdf = count_files(\".pdf\")   \n",
    "\n",
    "print(\"\\nNumber of pdf files: \"), num_pdf\n",
    "\n",
    "# Check if the number of docx and doc file is equal to the number of files.\n",
    "\n",
    "if num_docx == num_pdf:\n",
    "    print(\"\\nNumber of docx files is equal to number of pdf files.\")\n",
    "else:\n",
    "    print(\"\\nNumber of docx files is not equal to number of pdf files.\")\n"
   ]
  },
  {
   "cell_type": "code",
   "execution_count": 5,
   "metadata": {},
   "outputs": [],
   "source": [
    "import win32com.client as win32\n",
    "from os import chdir, getcwd, listdir, path\n",
    "\n",
    "word = win32.gencache.EnsureDispatch('Word.Application')\n",
    "files = 'Tammy Johnson.docx'\n",
    "new_name = files.replace(\".docx\", r\".pdf\")\n",
    "in_file = path.abspath(files)\n",
    "new_file = path.abspath(new_name)\n",
    "doc = word.Documents.Open(in_file)\n",
    "doc.SaveAs(new_file, FileFormat = 17)\n",
    "doc.Close()\n",
    "word.Application.Quit()"
   ]
  },
  {
   "cell_type": "code",
   "execution_count": null,
   "metadata": {},
   "outputs": [],
   "source": []
  }
 ],
 "metadata": {
  "kernelspec": {
   "display_name": "Python 3",
   "language": "python",
   "name": "python3"
  },
  "language_info": {
   "codemirror_mode": {
    "name": "ipython",
    "version": 3
   },
   "file_extension": ".py",
   "mimetype": "text/x-python",
   "name": "python",
   "nbconvert_exporter": "python",
   "pygments_lexer": "ipython3",
   "version": "3.7.2"
  }
 },
 "nbformat": 4,
 "nbformat_minor": 2
}
